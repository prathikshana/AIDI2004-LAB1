{
 "cells": [
  {
   "cell_type": "code",
   "execution_count": 3,
   "id": "2c13981a",
   "metadata": {},
   "outputs": [],
   "source": [
    "import random #library import"
   ]
  },
  {
   "cell_type": "code",
   "execution_count": 4,
   "id": "6f7f0854",
   "metadata": {},
   "outputs": [
    {
     "name": "stdout",
     "output_type": "stream",
     "text": [
      "Hello! I'm your go-to-assistant. How can I help you today?\n",
      "You: Hi\n",
      "Chatbot: Hello!\n",
      "You: Good Evening\n",
      "Chatbot: Good to see you!\n",
      "You: exit\n",
      "Chatbot: Goodbye! Have a great day!\n"
     ]
    }
   ],
   "source": [
    "# Enhanced Chatbot with Greeting Feature\n",
    "print(\"Hello! I'm your go-to-assistant. How can I help you today?\")\n",
    "\n",
    "# Predefined responses for greetings\n",
    "greetings = [\"hi\", \"hello\", \"hey\", \"good morning\", \"good evening\"]\n",
    "greeting_responses = [\"Hi there!\", \"Hello!\", \"Hey! How can I assist you?\", \"Good to see you!\"]\n",
    "\n",
    "while True:\n",
    "    # Taking user input\n",
    "    user_input = input(\"You: \").strip().lower()\n",
    "    \n",
    "    # Exit condition\n",
    "    if user_input in [\"bye\", \"exit\", \"quit\"]:\n",
    "        print(\"Chatbot: Goodbye! Have a great day!\")\n",
    "        break\n",
    "    \n",
    "    # Respond to greetings\n",
    "    elif user_input in greetings:\n",
    "        print(f\"Chatbot: {random.choice(greeting_responses)}\")\n",
    "    \n",
    "    # Default response\n",
    "    else:\n",
    "        print(\"Chatbot: I Can Hear You!\")\n"
   ]
  },
  {
   "cell_type": "code",
   "execution_count": null,
   "id": "c6a761cd",
   "metadata": {},
   "outputs": [],
   "source": []
  },
  {
   "cell_type": "code",
   "execution_count": null,
   "id": "be771fc5",
   "metadata": {},
   "outputs": [],
   "source": []
  }
 ],
 "metadata": {
  "kernelspec": {
   "display_name": "Python 3 (ipykernel)",
   "language": "python",
   "name": "python3"
  },
  "language_info": {
   "codemirror_mode": {
    "name": "ipython",
    "version": 3
   },
   "file_extension": ".py",
   "mimetype": "text/x-python",
   "name": "python",
   "nbconvert_exporter": "python",
   "pygments_lexer": "ipython3",
   "version": "3.11.5"
  }
 },
 "nbformat": 4,
 "nbformat_minor": 5
}
